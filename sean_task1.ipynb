{
  "nbformat": 4,
  "nbformat_minor": 0,
  "metadata": {
    "colab": {
      "provenance": [],
      "authorship_tag": "ABX9TyNxCaumEC49Fh6zWx9si1S3",
      "include_colab_link": true
    },
    "kernelspec": {
      "name": "python3",
      "display_name": "Python 3"
    },
    "language_info": {
      "name": "python"
    }
  },
  "cells": [
    {
      "cell_type": "markdown",
      "metadata": {
        "id": "view-in-github",
        "colab_type": "text"
      },
      "source": [
        "<a href=\"https://colab.research.google.com/github/onlinerafi/OvenMediaEngine/blob/master/sean_task1.ipynb\" target=\"_parent\"><img src=\"https://colab.research.google.com/assets/colab-badge.svg\" alt=\"Open In Colab\"/></a>"
      ]
    },
    {
      "cell_type": "code",
      "execution_count": 1,
      "metadata": {
        "colab": {
          "base_uri": "https://localhost:8080/"
        },
        "id": "jaOksKxJWxZV",
        "outputId": "e338a5c6-f626-4be3-d11a-b50348eee00b"
      },
      "outputs": [
        {
          "output_type": "stream",
          "name": "stdout",
          "text": [
            "Enter Value for K: 320\n",
            "False\n"
          ]
        }
      ],
      "source": [
        "arr=[23,34,25,567,42,87,4,8,65]\n",
        "ln=len(arr)\n",
        "K=int(input(\"Enter Value for K: \"))\n",
        "br=0\n",
        "for i in range(ln-2):\n",
        "    if br==1: break\n",
        "    if arr[i]>=K: continue\n",
        "    for j in range(ln-1):\n",
        "        if br==1: break\n",
        "        if arr[i]+arr[j]>=K: continue\n",
        "        for k in range(ln):\n",
        "            if arr[i]+arr[j]+arr[k]==K: \n",
        "                print(\"True\",arr[i],arr[j],arr[k])\n",
        "                br=1\n",
        "                break\n",
        "if br==0: print(\"False\")"
      ]
    }
  ]
}